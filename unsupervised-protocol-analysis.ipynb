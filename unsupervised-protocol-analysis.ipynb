{
 "cells": [
  {
   "cell_type": "markdown",
   "metadata": {},
   "source": [
    "# Intro\n",
    "This project aims to identify application protocols using only NetFlow data. NetFlow provides detailed network traffic statistics but lacks direct protocol information. By analyzing flow attributes such as IP addresse ranges, packet count, packet size and durations, the goal is to apply unsupervised learning to automatically infer the underlying application protocols. This approach could help network administrators and security professionals gain deeper insights into traffic patterns and improve network management and security."
   ]
  },
  {
   "cell_type": "markdown",
   "metadata": {},
   "source": [
    "# Dependencies"
   ]
  },
  {
   "cell_type": "code",
   "execution_count": 210,
   "metadata": {
    "scrolled": true
   },
   "outputs": [
    {
     "name": "stdout",
     "output_type": "stream",
     "text": [
      "Requirement already satisfied: seaborn in c:\\study\\msds\\ml2\\bbc_mini_project\\env\\lib\\site-packages (0.13.2)\n",
      "Requirement already satisfied: numpy in c:\\study\\msds\\ml2\\bbc_mini_project\\env\\lib\\site-packages (1.26.4)\n",
      "Requirement already satisfied: pandas in c:\\study\\msds\\ml2\\bbc_mini_project\\env\\lib\\site-packages (2.2.3)\n",
      "Requirement already satisfied: matplotlib in c:\\study\\msds\\ml2\\bbc_mini_project\\env\\lib\\site-packages (3.9.2)\n",
      "Requirement already satisfied: scikit-learn in c:\\study\\msds\\ml2\\bbc_mini_project\\env\\lib\\site-packages (1.5.2)\n",
      "Requirement already satisfied: tqdm in c:\\study\\msds\\ml2\\bbc_mini_project\\env\\lib\\site-packages (4.67.0)\n",
      "Requirement already satisfied: python-dateutil>=2.8.2 in c:\\study\\msds\\ml2\\bbc_mini_project\\env\\lib\\site-packages (from pandas) (2.9.0.post0)\n",
      "Requirement already satisfied: pytz>=2020.1 in c:\\study\\msds\\ml2\\bbc_mini_project\\env\\lib\\site-packages (from pandas) (2024.2)\n",
      "Requirement already satisfied: tzdata>=2022.7 in c:\\study\\msds\\ml2\\bbc_mini_project\\env\\lib\\site-packages (from pandas) (2024.2)\n",
      "Requirement already satisfied: contourpy>=1.0.1 in c:\\study\\msds\\ml2\\bbc_mini_project\\env\\lib\\site-packages (from matplotlib) (1.3.1)\n",
      "Requirement already satisfied: cycler>=0.10 in c:\\study\\msds\\ml2\\bbc_mini_project\\env\\lib\\site-packages (from matplotlib) (0.12.1)\n",
      "Requirement already satisfied: fonttools>=4.22.0 in c:\\study\\msds\\ml2\\bbc_mini_project\\env\\lib\\site-packages (from matplotlib) (4.55.0)\n",
      "Requirement already satisfied: kiwisolver>=1.3.1 in c:\\study\\msds\\ml2\\bbc_mini_project\\env\\lib\\site-packages (from matplotlib) (1.4.7)\n",
      "Requirement already satisfied: packaging>=20.0 in c:\\study\\msds\\ml2\\bbc_mini_project\\env\\lib\\site-packages (from matplotlib) (24.2)\n",
      "Requirement already satisfied: pillow>=8 in c:\\study\\msds\\ml2\\bbc_mini_project\\env\\lib\\site-packages (from matplotlib) (11.0.0)\n",
      "Requirement already satisfied: pyparsing>=2.3.1 in c:\\study\\msds\\ml2\\bbc_mini_project\\env\\lib\\site-packages (from matplotlib) (3.2.0)\n",
      "Requirement already satisfied: scipy>=1.6.0 in c:\\study\\msds\\ml2\\bbc_mini_project\\env\\lib\\site-packages (from scikit-learn) (1.13.1)\n",
      "Requirement already satisfied: joblib>=1.2.0 in c:\\study\\msds\\ml2\\bbc_mini_project\\env\\lib\\site-packages (from scikit-learn) (1.4.2)\n",
      "Requirement already satisfied: threadpoolctl>=3.1.0 in c:\\study\\msds\\ml2\\bbc_mini_project\\env\\lib\\site-packages (from scikit-learn) (3.5.0)\n",
      "Requirement already satisfied: colorama in c:\\study\\msds\\ml2\\bbc_mini_project\\env\\lib\\site-packages (from tqdm) (0.4.6)\n",
      "Requirement already satisfied: six>=1.5 in c:\\study\\msds\\ml2\\bbc_mini_project\\env\\lib\\site-packages (from python-dateutil>=2.8.2->pandas) (1.16.0)\n"
     ]
    },
    {
     "name": "stderr",
     "output_type": "stream",
     "text": [
      "\n",
      "[notice] A new release of pip available: 22.3.1 -> 24.3.1\n",
      "[notice] To update, run: python.exe -m pip install --upgrade pip\n"
     ]
    }
   ],
   "source": [
    "!pip install seaborn numpy pandas matplotlib scikit-learn tqdm"
   ]
  },
  {
   "cell_type": "code",
   "execution_count": 513,
   "metadata": {
    "_cell_guid": "b1076dfc-b9ad-4769-8c92-a6c4dae69d19",
    "_uuid": "8f2839f25d086af736a60e9eeb907d3b93b6e0e5"
   },
   "outputs": [],
   "source": [
    "import numpy as np\n",
    "import pandas as pd\n",
    "import seaborn as sns\n",
    "\n",
    "from itertools import permutations \n",
    "\n",
    "import matplotlib.pyplot as plt\n",
    "\n",
    "from tqdm.notebook import tqdm\n",
    "\n",
    "from sklearn.preprocessing import MinMaxScaler, RobustScaler, StandardScaler\n",
    "from sklearn.model_selection import train_test_split, KFold\n",
    "\n",
    "from sklearn.cluster import KMeans, DBSCAN, HDBSCAN\n",
    "from sklearn.decomposition import NMF, PCA\n",
    "\n",
    "from sklearn.metrics import accuracy_score, confusion_matrix\n",
    "from sklearn.metrics import normalized_mutual_info_score, adjusted_rand_score, v_measure_score, \\\n",
    "                            fowlkes_mallows_score, homogeneity_score, completeness_score, make_scorer\n"
   ]
  },
  {
   "cell_type": "markdown",
   "metadata": {},
   "source": [
    "# Loading data"
   ]
  },
  {
   "cell_type": "code",
   "execution_count": 212,
   "metadata": {},
   "outputs": [],
   "source": [
    "df = pd.read_csv(\"./Dataset-Unicauca-Version2-87Atts.csv\")"
   ]
  },
  {
   "cell_type": "code",
   "execution_count": 213,
   "metadata": {},
   "outputs": [
    {
     "name": "stdout",
     "output_type": "stream",
     "text": [
      "<class 'pandas.core.frame.DataFrame'>\n",
      "RangeIndex: 3577296 entries, 0 to 3577295\n",
      "Data columns (total 87 columns):\n",
      " #   Column                       Dtype  \n",
      "---  ------                       -----  \n",
      " 0   Flow.ID                      object \n",
      " 1   Source.IP                    object \n",
      " 2   Source.Port                  int64  \n",
      " 3   Destination.IP               object \n",
      " 4   Destination.Port             int64  \n",
      " 5   Protocol                     int64  \n",
      " 6   Timestamp                    object \n",
      " 7   Flow.Duration                int64  \n",
      " 8   Total.Fwd.Packets            int64  \n",
      " 9   Total.Backward.Packets       int64  \n",
      " 10  Total.Length.of.Fwd.Packets  int64  \n",
      " 11  Total.Length.of.Bwd.Packets  float64\n",
      " 12  Fwd.Packet.Length.Max        int64  \n",
      " 13  Fwd.Packet.Length.Min        int64  \n",
      " 14  Fwd.Packet.Length.Mean       float64\n",
      " 15  Fwd.Packet.Length.Std        float64\n",
      " 16  Bwd.Packet.Length.Max        int64  \n",
      " 17  Bwd.Packet.Length.Min        int64  \n",
      " 18  Bwd.Packet.Length.Mean       float64\n",
      " 19  Bwd.Packet.Length.Std        float64\n",
      " 20  Flow.Bytes.s                 float64\n",
      " 21  Flow.Packets.s               float64\n",
      " 22  Flow.IAT.Mean                float64\n",
      " 23  Flow.IAT.Std                 float64\n",
      " 24  Flow.IAT.Max                 float64\n",
      " 25  Flow.IAT.Min                 int64  \n",
      " 26  Fwd.IAT.Total                float64\n",
      " 27  Fwd.IAT.Mean                 float64\n",
      " 28  Fwd.IAT.Std                  float64\n",
      " 29  Fwd.IAT.Max                  float64\n",
      " 30  Fwd.IAT.Min                  float64\n",
      " 31  Bwd.IAT.Total                float64\n",
      " 32  Bwd.IAT.Mean                 float64\n",
      " 33  Bwd.IAT.Std                  float64\n",
      " 34  Bwd.IAT.Max                  float64\n",
      " 35  Bwd.IAT.Min                  float64\n",
      " 36  Fwd.PSH.Flags                int64  \n",
      " 37  Bwd.PSH.Flags                int64  \n",
      " 38  Fwd.URG.Flags                int64  \n",
      " 39  Bwd.URG.Flags                int64  \n",
      " 40  Fwd.Header.Length            int64  \n",
      " 41  Bwd.Header.Length            int64  \n",
      " 42  Fwd.Packets.s                float64\n",
      " 43  Bwd.Packets.s                float64\n",
      " 44  Min.Packet.Length            int64  \n",
      " 45  Max.Packet.Length            int64  \n",
      " 46  Packet.Length.Mean           float64\n",
      " 47  Packet.Length.Std            float64\n",
      " 48  Packet.Length.Variance       float64\n",
      " 49  FIN.Flag.Count               int64  \n",
      " 50  SYN.Flag.Count               int64  \n",
      " 51  RST.Flag.Count               int64  \n",
      " 52  PSH.Flag.Count               int64  \n",
      " 53  ACK.Flag.Count               int64  \n",
      " 54  URG.Flag.Count               int64  \n",
      " 55  CWE.Flag.Count               int64  \n",
      " 56  ECE.Flag.Count               int64  \n",
      " 57  Down.Up.Ratio                int64  \n",
      " 58  Average.Packet.Size          float64\n",
      " 59  Avg.Fwd.Segment.Size         float64\n",
      " 60  Avg.Bwd.Segment.Size         float64\n",
      " 61  Fwd.Header.Length.1          int64  \n",
      " 62  Fwd.Avg.Bytes.Bulk           int64  \n",
      " 63  Fwd.Avg.Packets.Bulk         int64  \n",
      " 64  Fwd.Avg.Bulk.Rate            int64  \n",
      " 65  Bwd.Avg.Bytes.Bulk           int64  \n",
      " 66  Bwd.Avg.Packets.Bulk         int64  \n",
      " 67  Bwd.Avg.Bulk.Rate            int64  \n",
      " 68  Subflow.Fwd.Packets          int64  \n",
      " 69  Subflow.Fwd.Bytes            int64  \n",
      " 70  Subflow.Bwd.Packets          int64  \n",
      " 71  Subflow.Bwd.Bytes            int64  \n",
      " 72  Init_Win_bytes_forward       int64  \n",
      " 73  Init_Win_bytes_backward      int64  \n",
      " 74  act_data_pkt_fwd             int64  \n",
      " 75  min_seg_size_forward         int64  \n",
      " 76  Active.Mean                  float64\n",
      " 77  Active.Std                   float64\n",
      " 78  Active.Max                   float64\n",
      " 79  Active.Min                   float64\n",
      " 80  Idle.Mean                    float64\n",
      " 81  Idle.Std                     float64\n",
      " 82  Idle.Max                     float64\n",
      " 83  Idle.Min                     float64\n",
      " 84  Label                        object \n",
      " 85  L7Protocol                   int64  \n",
      " 86  ProtocolName                 object \n",
      "dtypes: float64(36), int64(45), object(6)\n",
      "memory usage: 2.3+ GB\n"
     ]
    }
   ],
   "source": [
    "df.info()"
   ]
  },
  {
   "cell_type": "code",
   "execution_count": 214,
   "metadata": {},
   "outputs": [
    {
     "data": {
      "text/plain": [
       "(3577296, 87)"
      ]
     },
     "execution_count": 214,
     "metadata": {},
     "output_type": "execute_result"
    }
   ],
   "source": [
    "df.shape"
   ]
  },
  {
   "cell_type": "markdown",
   "metadata": {},
   "source": [
    "# Data Cleaning"
   ]
  },
  {
   "cell_type": "code",
   "execution_count": 215,
   "metadata": {},
   "outputs": [
    {
     "data": {
      "text/plain": [
       "Index(['Bwd.PSH.Flags', 'Fwd.URG.Flags', 'Bwd.URG.Flags', 'CWE.Flag.Count',\n",
       "       'Fwd.Avg.Bytes.Bulk', 'Fwd.Avg.Packets.Bulk', 'Fwd.Avg.Bulk.Rate',\n",
       "       'Bwd.Avg.Bytes.Bulk', 'Bwd.Avg.Packets.Bulk', 'Bwd.Avg.Bulk.Rate',\n",
       "       'Label'],\n",
       "      dtype='object')"
      ]
     },
     "execution_count": 215,
     "metadata": {},
     "output_type": "execute_result"
    }
   ],
   "source": [
    "unique_values = df.nunique()\n",
    "redundant_columns = unique_values[unique_values == 1].index # Columns which have the same values for all records\n",
    "redundant_columns"
   ]
  },
  {
   "cell_type": "code",
   "execution_count": 216,
   "metadata": {},
   "outputs": [],
   "source": [
    "df = df.drop(redundant_columns, axis=1)"
   ]
  },
  {
   "cell_type": "code",
   "execution_count": 217,
   "metadata": {},
   "outputs": [
    {
     "data": {
      "text/plain": [
       "ProtocolName\n",
       "GOOGLE            959110\n",
       "HTTP              683734\n",
       "HTTP_PROXY        623210\n",
       "SSL               404883\n",
       "HTTP_CONNECT      317526\n",
       "YOUTUBE           170781\n",
       "AMAZON             86875\n",
       "MICROSOFT          54710\n",
       "GMAIL              40260\n",
       "WINDOWS_UPDATE     34471\n",
       "SKYPE              30657\n",
       "FACEBOOK           29033\n",
       "DROPBOX            25102\n",
       "YAHOO              21268\n",
       "TWITTER            18259\n",
       "CLOUDFLARE         14737\n",
       "MSN                14478\n",
       "CONTENT_FLASH       8589\n",
       "APPLE               7615\n",
       "OFFICE_365          5941\n",
       "Name: count, dtype: int64"
      ]
     },
     "execution_count": 217,
     "metadata": {},
     "output_type": "execute_result"
    }
   ],
   "source": [
    "df['ProtocolName'].value_counts().head(20) # Top apps in the dataset, we will pick a subset of them to focus on\n"
   ]
  },
  {
   "cell_type": "code",
   "execution_count": 218,
   "metadata": {},
   "outputs": [],
   "source": [
    "# Only keep these apps\n",
    "#apps = ['GOOGLE','YOUTUBE','AMAZON','MICROSOFT','GMAIL','FACEBOOK','TWITTER','WHATSAPP']\n",
    "apps = ['AMAZON','MICROSOFT','GMAIL','FACEBOOK']\n",
    "df = df[df['ProtocolName'].apply(lambda s: s in apps)]"
   ]
  },
  {
   "cell_type": "code",
   "execution_count": 219,
   "metadata": {},
   "outputs": [
    {
     "data": {
      "text/html": [
       "<div>\n",
       "<style scoped>\n",
       "    .dataframe tbody tr th:only-of-type {\n",
       "        vertical-align: middle;\n",
       "    }\n",
       "\n",
       "    .dataframe tbody tr th {\n",
       "        vertical-align: top;\n",
       "    }\n",
       "\n",
       "    .dataframe thead th {\n",
       "        text-align: right;\n",
       "    }\n",
       "</style>\n",
       "<table border=\"1\" class=\"dataframe\">\n",
       "  <thead>\n",
       "    <tr style=\"text-align: right;\">\n",
       "      <th></th>\n",
       "      <th>Flow.ID</th>\n",
       "      <th>Source.Port</th>\n",
       "      <th>Destination.Port</th>\n",
       "      <th>Protocol</th>\n",
       "      <th>Timestamp</th>\n",
       "      <th>Flow.Duration</th>\n",
       "      <th>Total.Fwd.Packets</th>\n",
       "      <th>Total.Backward.Packets</th>\n",
       "      <th>Total.Length.of.Fwd.Packets</th>\n",
       "      <th>Total.Length.of.Bwd.Packets</th>\n",
       "      <th>...</th>\n",
       "      <th>Active.Max</th>\n",
       "      <th>Active.Min</th>\n",
       "      <th>Idle.Mean</th>\n",
       "      <th>Idle.Std</th>\n",
       "      <th>Idle.Max</th>\n",
       "      <th>Idle.Min</th>\n",
       "      <th>L7Protocol</th>\n",
       "      <th>ProtocolName</th>\n",
       "      <th>Source.IP_internal</th>\n",
       "      <th>Destination.IP_internal</th>\n",
       "    </tr>\n",
       "  </thead>\n",
       "  <tbody>\n",
       "    <tr>\n",
       "      <th>100</th>\n",
       "      <td>157.240.0.22-10.200.7.217-443-53809-6</td>\n",
       "      <td>53809</td>\n",
       "      <td>443</td>\n",
       "      <td>6</td>\n",
       "      <td>26/04/201711:11:18</td>\n",
       "      <td>1</td>\n",
       "      <td>2</td>\n",
       "      <td>0</td>\n",
       "      <td>0</td>\n",
       "      <td>0.0</td>\n",
       "      <td>...</td>\n",
       "      <td>0.0</td>\n",
       "      <td>0.0</td>\n",
       "      <td>0.0</td>\n",
       "      <td>0.000000e+00</td>\n",
       "      <td>0.0</td>\n",
       "      <td>0.0</td>\n",
       "      <td>119</td>\n",
       "      <td>FACEBOOK</td>\n",
       "      <td>True</td>\n",
       "      <td>False</td>\n",
       "    </tr>\n",
       "    <tr>\n",
       "      <th>272</th>\n",
       "      <td>192.168.151.4-10.200.7.5-51444-3128-6</td>\n",
       "      <td>51444</td>\n",
       "      <td>3128</td>\n",
       "      <td>6</td>\n",
       "      <td>26/04/201711:11:19</td>\n",
       "      <td>14276</td>\n",
       "      <td>5</td>\n",
       "      <td>17</td>\n",
       "      <td>233</td>\n",
       "      <td>8900.0</td>\n",
       "      <td>...</td>\n",
       "      <td>0.0</td>\n",
       "      <td>0.0</td>\n",
       "      <td>0.0</td>\n",
       "      <td>0.000000e+00</td>\n",
       "      <td>0.0</td>\n",
       "      <td>0.0</td>\n",
       "      <td>119</td>\n",
       "      <td>FACEBOOK</td>\n",
       "      <td>True</td>\n",
       "      <td>True</td>\n",
       "    </tr>\n",
       "    <tr>\n",
       "      <th>273</th>\n",
       "      <td>192.168.151.4-10.200.7.5-51443-3128-6</td>\n",
       "      <td>51443</td>\n",
       "      <td>3128</td>\n",
       "      <td>6</td>\n",
       "      <td>26/04/201711:11:19</td>\n",
       "      <td>15072</td>\n",
       "      <td>5</td>\n",
       "      <td>16</td>\n",
       "      <td>233</td>\n",
       "      <td>8900.0</td>\n",
       "      <td>...</td>\n",
       "      <td>0.0</td>\n",
       "      <td>0.0</td>\n",
       "      <td>0.0</td>\n",
       "      <td>0.000000e+00</td>\n",
       "      <td>0.0</td>\n",
       "      <td>0.0</td>\n",
       "      <td>119</td>\n",
       "      <td>FACEBOOK</td>\n",
       "      <td>True</td>\n",
       "      <td>True</td>\n",
       "    </tr>\n",
       "    <tr>\n",
       "      <th>285</th>\n",
       "      <td>192.168.151.4-10.200.7.5-51445-3128-6</td>\n",
       "      <td>51445</td>\n",
       "      <td>3128</td>\n",
       "      <td>6</td>\n",
       "      <td>26/04/201711:11:20</td>\n",
       "      <td>3703</td>\n",
       "      <td>5</td>\n",
       "      <td>16</td>\n",
       "      <td>233</td>\n",
       "      <td>8900.0</td>\n",
       "      <td>...</td>\n",
       "      <td>0.0</td>\n",
       "      <td>0.0</td>\n",
       "      <td>0.0</td>\n",
       "      <td>0.000000e+00</td>\n",
       "      <td>0.0</td>\n",
       "      <td>0.0</td>\n",
       "      <td>119</td>\n",
       "      <td>FACEBOOK</td>\n",
       "      <td>True</td>\n",
       "      <td>True</td>\n",
       "    </tr>\n",
       "    <tr>\n",
       "      <th>316</th>\n",
       "      <td>10.200.7.194-52.1.215.98-39111-443-6</td>\n",
       "      <td>39111</td>\n",
       "      <td>443</td>\n",
       "      <td>6</td>\n",
       "      <td>26/04/201711:11:18</td>\n",
       "      <td>1670884</td>\n",
       "      <td>5</td>\n",
       "      <td>8</td>\n",
       "      <td>580</td>\n",
       "      <td>14951.0</td>\n",
       "      <td>...</td>\n",
       "      <td>0.0</td>\n",
       "      <td>0.0</td>\n",
       "      <td>0.0</td>\n",
       "      <td>0.000000e+00</td>\n",
       "      <td>0.0</td>\n",
       "      <td>0.0</td>\n",
       "      <td>178</td>\n",
       "      <td>AMAZON</td>\n",
       "      <td>True</td>\n",
       "      <td>False</td>\n",
       "    </tr>\n",
       "    <tr>\n",
       "      <th>...</th>\n",
       "      <td>...</td>\n",
       "      <td>...</td>\n",
       "      <td>...</td>\n",
       "      <td>...</td>\n",
       "      <td>...</td>\n",
       "      <td>...</td>\n",
       "      <td>...</td>\n",
       "      <td>...</td>\n",
       "      <td>...</td>\n",
       "      <td>...</td>\n",
       "      <td>...</td>\n",
       "      <td>...</td>\n",
       "      <td>...</td>\n",
       "      <td>...</td>\n",
       "      <td>...</td>\n",
       "      <td>...</td>\n",
       "      <td>...</td>\n",
       "      <td>...</td>\n",
       "      <td>...</td>\n",
       "      <td>...</td>\n",
       "      <td>...</td>\n",
       "    </tr>\n",
       "    <tr>\n",
       "      <th>3576898</th>\n",
       "      <td>10.200.7.217-64.233.190.189-57682-443-6</td>\n",
       "      <td>443</td>\n",
       "      <td>57682</td>\n",
       "      <td>6</td>\n",
       "      <td>15/05/201705:35:16</td>\n",
       "      <td>328</td>\n",
       "      <td>1</td>\n",
       "      <td>2</td>\n",
       "      <td>0</td>\n",
       "      <td>0.0</td>\n",
       "      <td>...</td>\n",
       "      <td>0.0</td>\n",
       "      <td>0.0</td>\n",
       "      <td>0.0</td>\n",
       "      <td>0.000000e+00</td>\n",
       "      <td>0.0</td>\n",
       "      <td>0.0</td>\n",
       "      <td>122</td>\n",
       "      <td>GMAIL</td>\n",
       "      <td>False</td>\n",
       "      <td>True</td>\n",
       "    </tr>\n",
       "    <tr>\n",
       "      <th>3576943</th>\n",
       "      <td>10.200.7.194-64.233.190.189-44795-443-6</td>\n",
       "      <td>443</td>\n",
       "      <td>44795</td>\n",
       "      <td>6</td>\n",
       "      <td>15/05/201705:38:33</td>\n",
       "      <td>74956125</td>\n",
       "      <td>9</td>\n",
       "      <td>10</td>\n",
       "      <td>361</td>\n",
       "      <td>263.0</td>\n",
       "      <td>...</td>\n",
       "      <td>928344.0</td>\n",
       "      <td>1.0</td>\n",
       "      <td>24675815.0</td>\n",
       "      <td>2.909996e+05</td>\n",
       "      <td>24995402.0</td>\n",
       "      <td>24426139.0</td>\n",
       "      <td>122</td>\n",
       "      <td>GMAIL</td>\n",
       "      <td>False</td>\n",
       "      <td>True</td>\n",
       "    </tr>\n",
       "    <tr>\n",
       "      <th>3577033</th>\n",
       "      <td>10.200.7.194-64.233.190.189-44795-443-6</td>\n",
       "      <td>443</td>\n",
       "      <td>44795</td>\n",
       "      <td>6</td>\n",
       "      <td>15/05/201705:40:17</td>\n",
       "      <td>108243326</td>\n",
       "      <td>5</td>\n",
       "      <td>5</td>\n",
       "      <td>260</td>\n",
       "      <td>0.0</td>\n",
       "      <td>...</td>\n",
       "      <td>4307.0</td>\n",
       "      <td>58.0</td>\n",
       "      <td>27059568.0</td>\n",
       "      <td>2.419064e+06</td>\n",
       "      <td>29959004.0</td>\n",
       "      <td>24457039.0</td>\n",
       "      <td>122</td>\n",
       "      <td>GMAIL</td>\n",
       "      <td>False</td>\n",
       "      <td>True</td>\n",
       "    </tr>\n",
       "    <tr>\n",
       "      <th>3577096</th>\n",
       "      <td>10.200.7.194-64.233.190.189-44795-443-6</td>\n",
       "      <td>443</td>\n",
       "      <td>44795</td>\n",
       "      <td>6</td>\n",
       "      <td>15/05/201705:42:32</td>\n",
       "      <td>112893912</td>\n",
       "      <td>9</td>\n",
       "      <td>7</td>\n",
       "      <td>413</td>\n",
       "      <td>225.0</td>\n",
       "      <td>...</td>\n",
       "      <td>583700.0</td>\n",
       "      <td>114.0</td>\n",
       "      <td>28077439.5</td>\n",
       "      <td>1.905507e+06</td>\n",
       "      <td>29911982.0</td>\n",
       "      <td>25824965.0</td>\n",
       "      <td>122</td>\n",
       "      <td>GMAIL</td>\n",
       "      <td>False</td>\n",
       "      <td>True</td>\n",
       "    </tr>\n",
       "    <tr>\n",
       "      <th>3577145</th>\n",
       "      <td>10.200.7.194-64.233.190.189-44795-443-6</td>\n",
       "      <td>443</td>\n",
       "      <td>44795</td>\n",
       "      <td>6</td>\n",
       "      <td>15/05/201705:44:52</td>\n",
       "      <td>84187272</td>\n",
       "      <td>9</td>\n",
       "      <td>9</td>\n",
       "      <td>391</td>\n",
       "      <td>263.0</td>\n",
       "      <td>...</td>\n",
       "      <td>262.0</td>\n",
       "      <td>87.0</td>\n",
       "      <td>27804156.0</td>\n",
       "      <td>1.698505e+06</td>\n",
       "      <td>29372661.0</td>\n",
       "      <td>26000216.0</td>\n",
       "      <td>122</td>\n",
       "      <td>GMAIL</td>\n",
       "      <td>False</td>\n",
       "      <td>True</td>\n",
       "    </tr>\n",
       "  </tbody>\n",
       "</table>\n",
       "<p>210878 rows × 76 columns</p>\n",
       "</div>"
      ],
      "text/plain": [
       "                                         Flow.ID  Source.Port  \\\n",
       "100        157.240.0.22-10.200.7.217-443-53809-6        53809   \n",
       "272        192.168.151.4-10.200.7.5-51444-3128-6        51444   \n",
       "273        192.168.151.4-10.200.7.5-51443-3128-6        51443   \n",
       "285        192.168.151.4-10.200.7.5-51445-3128-6        51445   \n",
       "316         10.200.7.194-52.1.215.98-39111-443-6        39111   \n",
       "...                                          ...          ...   \n",
       "3576898  10.200.7.217-64.233.190.189-57682-443-6          443   \n",
       "3576943  10.200.7.194-64.233.190.189-44795-443-6          443   \n",
       "3577033  10.200.7.194-64.233.190.189-44795-443-6          443   \n",
       "3577096  10.200.7.194-64.233.190.189-44795-443-6          443   \n",
       "3577145  10.200.7.194-64.233.190.189-44795-443-6          443   \n",
       "\n",
       "         Destination.Port  Protocol           Timestamp  Flow.Duration  \\\n",
       "100                   443         6  26/04/201711:11:18              1   \n",
       "272                  3128         6  26/04/201711:11:19          14276   \n",
       "273                  3128         6  26/04/201711:11:19          15072   \n",
       "285                  3128         6  26/04/201711:11:20           3703   \n",
       "316                   443         6  26/04/201711:11:18        1670884   \n",
       "...                   ...       ...                 ...            ...   \n",
       "3576898             57682         6  15/05/201705:35:16            328   \n",
       "3576943             44795         6  15/05/201705:38:33       74956125   \n",
       "3577033             44795         6  15/05/201705:40:17      108243326   \n",
       "3577096             44795         6  15/05/201705:42:32      112893912   \n",
       "3577145             44795         6  15/05/201705:44:52       84187272   \n",
       "\n",
       "         Total.Fwd.Packets  Total.Backward.Packets  \\\n",
       "100                      2                       0   \n",
       "272                      5                      17   \n",
       "273                      5                      16   \n",
       "285                      5                      16   \n",
       "316                      5                       8   \n",
       "...                    ...                     ...   \n",
       "3576898                  1                       2   \n",
       "3576943                  9                      10   \n",
       "3577033                  5                       5   \n",
       "3577096                  9                       7   \n",
       "3577145                  9                       9   \n",
       "\n",
       "         Total.Length.of.Fwd.Packets  Total.Length.of.Bwd.Packets  ...  \\\n",
       "100                                0                          0.0  ...   \n",
       "272                              233                       8900.0  ...   \n",
       "273                              233                       8900.0  ...   \n",
       "285                              233                       8900.0  ...   \n",
       "316                              580                      14951.0  ...   \n",
       "...                              ...                          ...  ...   \n",
       "3576898                            0                          0.0  ...   \n",
       "3576943                          361                        263.0  ...   \n",
       "3577033                          260                          0.0  ...   \n",
       "3577096                          413                        225.0  ...   \n",
       "3577145                          391                        263.0  ...   \n",
       "\n",
       "         Active.Max  Active.Min   Idle.Mean      Idle.Std    Idle.Max  \\\n",
       "100             0.0         0.0         0.0  0.000000e+00         0.0   \n",
       "272             0.0         0.0         0.0  0.000000e+00         0.0   \n",
       "273             0.0         0.0         0.0  0.000000e+00         0.0   \n",
       "285             0.0         0.0         0.0  0.000000e+00         0.0   \n",
       "316             0.0         0.0         0.0  0.000000e+00         0.0   \n",
       "...             ...         ...         ...           ...         ...   \n",
       "3576898         0.0         0.0         0.0  0.000000e+00         0.0   \n",
       "3576943    928344.0         1.0  24675815.0  2.909996e+05  24995402.0   \n",
       "3577033      4307.0        58.0  27059568.0  2.419064e+06  29959004.0   \n",
       "3577096    583700.0       114.0  28077439.5  1.905507e+06  29911982.0   \n",
       "3577145       262.0        87.0  27804156.0  1.698505e+06  29372661.0   \n",
       "\n",
       "           Idle.Min  L7Protocol  ProtocolName  Source.IP_internal  \\\n",
       "100             0.0         119      FACEBOOK                True   \n",
       "272             0.0         119      FACEBOOK                True   \n",
       "273             0.0         119      FACEBOOK                True   \n",
       "285             0.0         119      FACEBOOK                True   \n",
       "316             0.0         178        AMAZON                True   \n",
       "...             ...         ...           ...                 ...   \n",
       "3576898         0.0         122         GMAIL               False   \n",
       "3576943  24426139.0         122         GMAIL               False   \n",
       "3577033  24457039.0         122         GMAIL               False   \n",
       "3577096  25824965.0         122         GMAIL               False   \n",
       "3577145  26000216.0         122         GMAIL               False   \n",
       "\n",
       "         Destination.IP_internal  \n",
       "100                        False  \n",
       "272                         True  \n",
       "273                         True  \n",
       "285                         True  \n",
       "316                        False  \n",
       "...                          ...  \n",
       "3576898                     True  \n",
       "3576943                     True  \n",
       "3577033                     True  \n",
       "3577096                     True  \n",
       "3577145                     True  \n",
       "\n",
       "[210878 rows x 76 columns]"
      ]
     },
     "execution_count": 219,
     "metadata": {},
     "output_type": "execute_result"
    }
   ],
   "source": [
    "# Replace source & dest IPs with binary variables of \"is_internal\"\n",
    "internal_prefixes = ['192.168','172.','10.']\n",
    "df['Source.IP_internal'] = df['Source.IP'].apply(lambda ip: any([ip.startswith(prefix) for prefix in internal_prefixes]))\n",
    "df['Destination.IP_internal'] = df['Destination.IP'].apply(lambda ip: any([ip.startswith(prefix) for prefix in internal_prefixes]))\n",
    "df = df.drop(['Source.IP','Destination.IP'], axis=1)\n",
    "df"
   ]
  },
  {
   "cell_type": "code",
   "execution_count": 220,
   "metadata": {},
   "outputs": [],
   "source": [
    "# Remove timestamp, Flow.ID, and port numbers (because we're dealing with web-apps the ports don't tell us much)\n",
    "df = df.drop(['Flow.ID','Timestamp', 'Source.Port', 'Destination.Port'], axis=1)"
   ]
  },
  {
   "cell_type": "code",
   "execution_count": 221,
   "metadata": {},
   "outputs": [
    {
     "data": {
      "text/plain": [
       "Protocol\n",
       "6     210826\n",
       "17        52\n",
       "Name: count, dtype: int64"
      ]
     },
     "execution_count": 221,
     "metadata": {},
     "output_type": "execute_result"
    }
   ],
   "source": [
    "df['Protocol'].value_counts() # We might have some wrong records since all values should be 6, let's clean them up"
   ]
  },
  {
   "cell_type": "code",
   "execution_count": 222,
   "metadata": {},
   "outputs": [],
   "source": [
    "df = df[df['Protocol'] == 6] # We will only deal with TCP traffic\n",
    "df = df.drop('Protocol', axis=1)"
   ]
  },
  {
   "cell_type": "markdown",
   "metadata": {
    "execution": {
     "iopub.execute_input": "2024-11-21T20:29:21.746005Z",
     "iopub.status.busy": "2024-11-21T20:29:21.745164Z",
     "iopub.status.idle": "2024-11-21T20:29:21.770116Z",
     "shell.execute_reply": "2024-11-21T20:29:21.768859Z",
     "shell.execute_reply.started": "2024-11-21T20:29:21.745942Z"
    }
   },
   "source": [
    "# Exploratory Data Analysis"
   ]
  },
  {
   "cell_type": "code",
   "execution_count": 226,
   "metadata": {},
   "outputs": [
    {
     "data": {
      "image/png": "[encoded data removed]",
      "text/plain": [
       "<Figure size 400x400 with 1 Axes>"
      ]
     },
     "metadata": {},
     "output_type": "display_data"
    }
   ],
   "source": [
    "# Class distribution\n",
    "\n",
    "plt.figure(figsize=(4,4))\n",
    "df['ProtocolName'].hist(bins=20)\n",
    "plt.show()"
   ]
  },
  {
   "cell_type": "code",
   "execution_count": 224,
   "metadata": {},
   "outputs": [
    {
     "data": {
      "text/plain": [
       "<Axes: >"
      ]
     },
     "execution_count": 224,
     "metadata": {},
     "output_type": "execute_result"
    },
    {
     "data": {
      "image/png": "[encoded data removed]",
      "text/plain": [
       "<Figure size 640x480 with 1 Axes>"
      ]
     },
     "metadata": {},
     "output_type": "display_data"
    }
   ],
   "source": [
    "df['Flow.Duration'].hist(bins=50)"
   ]
  },
  {
   "cell_type": "code",
   "execution_count": 244,
   "metadata": {},
   "outputs": [
    {
     "data": {
      "text/plain": [
       "Index(['L7Protocol', 'min_seg_size_forward', 'Bwd.IAT.Total', 'Idle.Max',\n",
       "       'Destination.IP_internal', 'Idle.Mean', 'Bwd.IAT.Max', 'Flow.IAT.Min',\n",
       "       'Idle.Min', 'Bwd.Packet.Length.Std', 'SYN.Flag.Count', 'Fwd.PSH.Flags',\n",
       "       'Fwd.IAT.Total', 'Idle.Std', 'Flow.Duration', 'Bwd.Packet.Length.Max',\n",
       "       'Bwd.Packet.Length.Mean', 'Avg.Bwd.Segment.Size', 'Packet.Length.Std',\n",
       "       'Bwd.IAT.Std'],\n",
       "      dtype='object')"
      ]
     },
     "execution_count": 244,
     "metadata": {},
     "output_type": "execute_result"
    }
   ],
   "source": [
    "# Fetching fields which have the strongest correlations with any specific protocol name as the features basis for prediction\n",
    "\n",
    "df_cat = pd.concat([pd.get_dummies(df['ProtocolName']), df.drop('ProtocolName',axis=1)], axis=1)\n",
    "key_fields = df_cat.corr().loc[list(set(df_cat.columns)-set(apps)), apps].max(axis=1).sort_values(ascending=False).head(20).index\n",
    "key_fields"
   ]
  },
  {
   "cell_type": "code",
   "execution_count": null,
   "metadata": {},
   "outputs": [],
   "source": []
  },
  {
   "cell_type": "markdown",
   "metadata": {},
   "source": [
    "# PreProcessing"
   ]
  },
  {
   "cell_type": "markdown",
   "metadata": {},
   "source": [
    "Since we'll be using NMF, it's a good idea to replace missing values that are marked with '-1' with '0' instead, especially since in that column there are no 0 values that are valid"
   ]
  },
  {
   "cell_type": "code",
   "execution_count": 245,
   "metadata": {},
   "outputs": [],
   "source": [
    "df.loc[df['Init_Win_bytes_backward'] == -1, 'Init_Win_bytes_backward'] = 0 # Replace -1 with 0's for missing values"
   ]
  },
  {
   "cell_type": "markdown",
   "metadata": {},
   "source": [
    "We've seen the classes are highly imbalance, let's re-balance by undersampling in order to prevent from one cluster dominating the others in our model"
   ]
  },
  {
   "cell_type": "code",
   "execution_count": 246,
   "metadata": {},
   "outputs": [
    {
     "data": {
      "text/plain": [
       "29033"
      ]
     },
     "execution_count": 246,
     "metadata": {},
     "output_type": "execute_result"
    }
   ],
   "source": [
    "min_class_size = df.groupby('ProtocolName').count().min().iloc[0]\n",
    "min_class_size"
   ]
  },
  {
   "cell_type": "code",
   "execution_count": 431,
   "metadata": {},
   "outputs": [],
   "source": [
    "max_class_size = 10_000\n",
    "\n",
    "subsample_size = min(max_class_size, min_class_size)"
   ]
  },
  {
   "cell_type": "code",
   "execution_count": 432,
   "metadata": {},
   "outputs": [
    {
     "data": {
      "text/plain": [
       "10000"
      ]
     },
     "execution_count": 432,
     "metadata": {},
     "output_type": "execute_result"
    }
   ],
   "source": [
    "subsample_size"
   ]
  },
  {
   "cell_type": "code",
   "execution_count": 433,
   "metadata": {},
   "outputs": [],
   "source": [
    "dfs = []\n",
    "for cl in df['ProtocolName'].unique():\n",
    "    class_sample = df[df['ProtocolName'] == cl].sample(n=subsample_size)\n",
    "    dfs += [class_sample]"
   ]
  },
  {
   "cell_type": "code",
   "execution_count": 434,
   "metadata": {},
   "outputs": [],
   "source": [
    "df = pd.concat(dfs)"
   ]
  },
  {
   "cell_type": "code",
   "execution_count": 435,
   "metadata": {},
   "outputs": [],
   "source": [
    "df = df.reset_index().drop('index', axis=1)"
   ]
  },
  {
   "cell_type": "code",
   "execution_count": 538,
   "metadata": {},
   "outputs": [],
   "source": [
    "#X = df.drop('ProtocolName', axis=1)\n",
    "X = df[key_fields]\n",
    "#X = df[['Flow.Duration','Total.Fwd.Packets','Total.Backward.Packets','Source.IP_internal','Destination.IP_internal']].values\n",
    "y = list(df['ProtocolName'].values)\n",
    "X_train, X_test, y_train, y_test = train_test_split(X, y, test_size=0.2)"
   ]
  },
  {
   "cell_type": "code",
   "execution_count": 539,
   "metadata": {},
   "outputs": [],
   "source": [
    "# scaler = RobustScaler(with_centering=False) # Disabled centering to avoid negative values for NMF\n",
    "#scaler = MinMaxScaler()\n",
    "scaler = StandardScaler()\n",
    "\n",
    "X_train = scaler.fit_transform(X_train)\n",
    "X_test = scaler.fit_transform(X_test)"
   ]
  },
  {
   "cell_type": "markdown",
   "metadata": {},
   "source": [
    "# Model Training"
   ]
  },
  {
   "cell_type": "code",
   "execution_count": 540,
   "metadata": {},
   "outputs": [],
   "source": [
    "# pca = PCA(n_components=10)\n",
    "# pca.fit(X_train)\n",
    "# print(pca.explained_variance_ratio_.sum())"
   ]
  },
  {
   "cell_type": "code",
   "execution_count": 541,
   "metadata": {},
   "outputs": [],
   "source": [
    "#X_train = pca.transform(X_train)\n",
    "#X_test = pca.transform(X_test)"
   ]
  },
  {
   "cell_type": "markdown",
   "metadata": {},
   "source": [
    "## Hyperparameters tuning"
   ]
  },
  {
   "cell_type": "code",
   "execution_count": 575,
   "metadata": {},
   "outputs": [
    {
     "data": {
      "application/vnd.jupyter.widget-view+json": {
       "model_id": "75015d8857dd489f8f27a1f7f3adeebf",
       "version_major": 2,
       "version_minor": 0
      },
      "text/plain": [
       "Testing eps values:   0%|          | 0/5 [00:00<?, ?it/s]"
      ]
     },
     "metadata": {},
     "output_type": "display_data"
    },
    {
     "data": {
      "application/vnd.jupyter.widget-view+json": {
       "model_id": "",
       "version_major": 2,
       "version_minor": 0
      },
      "text/plain": [
       "Testing min_samples:   0%|          | 0/1 [00:00<?, ?it/s]"
      ]
     },
     "metadata": {},
     "output_type": "display_data"
    },
    {
     "name": "stdout",
     "output_type": "stream",
     "text": [
      "eps: 0.7, min_samples: 2, ARI: 0.3481271713044187\n"
     ]
    },
    {
     "data": {
      "application/vnd.jupyter.widget-view+json": {
       "model_id": "",
       "version_major": 2,
       "version_minor": 0
      },
      "text/plain": [
       "Testing min_samples:   0%|          | 0/1 [00:00<?, ?it/s]"
      ]
     },
     "metadata": {},
     "output_type": "display_data"
    },
    {
     "name": "stdout",
     "output_type": "stream",
     "text": [
      "eps: 0.75, min_samples: 2, ARI: 0.35292964148044337\n"
     ]
    },
    {
     "data": {
      "application/vnd.jupyter.widget-view+json": {
       "model_id": "",
       "version_major": 2,
       "version_minor": 0
      },
      "text/plain": [
       "Testing min_samples:   0%|          | 0/1 [00:00<?, ?it/s]"
      ]
     },
     "metadata": {},
     "output_type": "display_data"
    },
    {
     "name": "stdout",
     "output_type": "stream",
     "text": [
      "eps: 0.8, min_samples: 2, ARI: 0.3571344947083267\n"
     ]
    },
    {
     "data": {
      "application/vnd.jupyter.widget-view+json": {
       "model_id": "",
       "version_major": 2,
       "version_minor": 0
      },
      "text/plain": [
       "Testing min_samples:   0%|          | 0/1 [00:00<?, ?it/s]"
      ]
     },
     "metadata": {},
     "output_type": "display_data"
    },
    {
     "name": "stdout",
     "output_type": "stream",
     "text": [
      "eps: 0.85, min_samples: 2, ARI: 0.36038633374480383\n"
     ]
    },
    {
     "data": {
      "application/vnd.jupyter.widget-view+json": {
       "model_id": "",
       "version_major": 2,
       "version_minor": 0
      },
      "text/plain": [
       "Testing min_samples:   0%|          | 0/1 [00:00<?, ?it/s]"
      ]
     },
     "metadata": {},
     "output_type": "display_data"
    },
    {
     "name": "stdout",
     "output_type": "stream",
     "text": [
      "Best Parameters: {'eps': 0.85, 'min_samples': 2}\n",
      "Best ARI Score: 0.36038633374480383\n"
     ]
    },
    {
     "data": {
      "image/png": "[encoded data removed]",
      "text/plain": [
       "<Figure size 800x600 with 2 Axes>"
      ]
     },
     "metadata": {},
     "output_type": "display_data"
    }
   ],
   "source": [
    "eps_values = np.linspace(0.7, 0.9, 5)\n",
    "min_samples_values = np.arange(2, 3, 1)\n",
    "\n",
    "best_ari = -1\n",
    "best_params = {}\n",
    "ari_scores = []\n",
    "\n",
    "for eps in tqdm(eps_values, desc=\"Testing eps values\", position=0, leave=True):\n",
    "    ari_row = []\n",
    "    for min_samples in tqdm(min_samples_values, desc=\"Testing min_samples\", position=1, leave=False):\n",
    "        dbscan = DBSCAN(eps=eps, min_samples=min_samples, metric='euclidean')\n",
    "        y_pred = dbscan.fit_predict(X_train)\n",
    "        ari = adjusted_rand_score(y_train, y_pred)\n",
    "        ari_row.append(ari)\n",
    "\n",
    "        # Update the best ARI score and parameters if the current ARI is better\n",
    "        if ari > best_ari:\n",
    "            best_ari = ari\n",
    "            best_params = {'eps': eps, 'min_samples': min_samples}\n",
    "            print(f\"eps: {eps}, min_samples: {min_samples}, ARI: {ari}\")\n",
    "\n",
    "    \n",
    "    ari_scores.append(ari_row)\n",
    "\n",
    "# Print the best parameters and the best ARI score\n",
    "print(f\"Best Parameters: {best_params}\")\n",
    "print(f\"Best ARI Score: {best_ari}\")\n",
    "\n",
    "ari_scores = np.array(ari_scores)\n",
    "\n",
    "# Create a heatmap using seaborn\n",
    "plt.figure(figsize=(8, 6))\n",
    "sns.heatmap(ari_scores, annot=True, cmap='coolwarm', xticklabels=min_samples_values, yticklabels=eps_values)\n",
    "\n",
    "# Labels and title\n",
    "plt.xlabel('min_samples')\n",
    "plt.ylabel('eps')\n",
    "plt.title('ARI Scores for Different eps and min_samples Combinations')\n",
    "\n",
    "# Display the plot\n",
    "plt.show()\n"
   ]
  },
  {
   "cell_type": "code",
   "execution_count": 576,
   "metadata": {},
   "outputs": [],
   "source": [
    "# eps_values = np.linspace(0.5, 2, 5)\n",
    "# min_samples_values = np.arange(2, 5, 1)\n",
    "\n",
    "# best_ari = -1\n",
    "# best_params = {}\n",
    "# ari_scores = []\n",
    "\n",
    "# # Set up K-fold cross-validation\n",
    "# kf = KFold(n_splits=5, shuffle=True, random_state=42)\n",
    "\n",
    "# # Loop through the hyperparameter grid\n",
    "# for eps in tqdm(eps_values, desc=\"Testing eps values\", position=0, leave=True):\n",
    "#     ari_row = []\n",
    "#     for min_samples in tqdm(min_samples_values, desc=\"Testing min_samples\", position=1, leave=False):\n",
    "#         fold_ari_scores = []\n",
    "\n",
    "#         # Perform cross-validation\n",
    "#         for train_idx, val_idx in kf.split(X_train):\n",
    "#             X_train_fold, X_val_fold = X_train[train_idx], X_train[val_idx]\n",
    "#             y_train_fold, y_val_fold = [y_train[i] for i in train_idx], [y_train[i] for i in val_idx]  # List indexing\n",
    "\n",
    "#             dbscan = DBSCAN(eps=eps, min_samples=min_samples, metric='euclidean')\n",
    "#             # Fit on training data and predict on validation data\n",
    "#             y_pred_val = dbscan.fit_predict(X_val_fold)\n",
    "\n",
    "         \n",
    "#             # Create a DataFrame for results with the true labels and predicted clusters\n",
    "#             results = pd.concat([pd.Series(y_train_fold, name='ProtocolName'), pd.Series(y_pred_val, name='cluster')], axis=1)\n",
    "            \n",
    "#             # Map clusters to the most common protocol name for each cluster\n",
    "#             cluster_protocol_map = results.groupby('cluster')['ProtocolName'].agg(lambda x: x.mode()[0]).to_dict()\n",
    "\n",
    "#             # Map predicted clusters to labels using the map\n",
    "#             y_pred_val_mapped = [cluster_protocol_map.get(y, 'None') for y in y_pred_val]\n",
    "\n",
    "#             # Calculate ARI for the current fold (using validation labels and predicted labels)\n",
    "#             ari = adjusted_rand_score(y_val_fold, y_pred_val_mapped)\n",
    "#             fold_ari_scores.append(ari)\n",
    "\n",
    "#         # Calculate average ARI score for the current hyperparameter combination\n",
    "#         avg_ari = np.mean(fold_ari_scores)\n",
    "#         ari_row.append(avg_ari)\n",
    "\n",
    "#         # Update the best ARI score and parameters if the current ARI is better\n",
    "#         if avg_ari > best_ari:\n",
    "#             best_ari = avg_ari\n",
    "#             best_params = {'eps': eps, 'min_samples': min_samples}\n",
    "#             print(f\"eps: {eps}, min_samples: {min_samples}, ARI: {avg_ari}\")\n",
    "\n",
    "#     ari_scores.append(ari_row)\n",
    "\n",
    "# # Print the best parameters and the best ARI score\n",
    "# print(f\"Best Parameters: {best_params}\")\n",
    "# print(f\"Best ARI Score: {best_ari}\")\n",
    "\n",
    "# ari_scores = np.array(ari_scores)\n",
    "\n",
    "# # Create a heatmap using seaborn\n",
    "# plt.figure(figsize=(8, 6))\n",
    "# sns.heatmap(ari_scores, annot=True, cmap='coolwarm', xticklabels=min_samples_values, yticklabels=eps_values)\n",
    "\n",
    "# # Labels and title\n",
    "# plt.xlabel('min_samples')\n",
    "# plt.ylabel('eps')\n",
    "# plt.title('ARI Scores for Different eps and min_samples Combinations')\n",
    "\n",
    "# # Display the plot\n",
    "# plt.show()\n"
   ]
  },
  {
   "cell_type": "code",
   "execution_count": 577,
   "metadata": {},
   "outputs": [],
   "source": [
    "model = DBSCAN(eps=best_params['eps'], min_samples=best_params['min_samples'], metric='euclidean')\n",
    "y_pred = dbscan.fit_predict(X_train)"
   ]
  },
  {
   "cell_type": "code",
   "execution_count": 578,
   "metadata": {},
   "outputs": [],
   "source": [
    "# model = KMeans(n_clusters=len(df['ProtocolName'].unique()))\n",
    "# y_pred = np.argmax(model.fit_transform(X_train), axis=1)"
   ]
  },
  {
   "cell_type": "code",
   "execution_count": 579,
   "metadata": {},
   "outputs": [],
   "source": [
    "# model = NMF(n_components=len(df['ProtocolName'].unique()))\n",
    "# W = model.fit_transform(X_train)\n",
    "# y_pred = W.argmax(axis=1)"
   ]
  },
  {
   "cell_type": "code",
   "execution_count": 580,
   "metadata": {},
   "outputs": [],
   "source": [
    "# model = HDBSCAN(min_cluster_size=100)\n",
    "# y_pred = model.fit_predict(X_train)"
   ]
  },
  {
   "cell_type": "code",
   "execution_count": 581,
   "metadata": {},
   "outputs": [
    {
     "data": {
      "text/html": [
       "<div>\n",
       "<style scoped>\n",
       "    .dataframe tbody tr th:only-of-type {\n",
       "        vertical-align: middle;\n",
       "    }\n",
       "\n",
       "    .dataframe tbody tr th {\n",
       "        vertical-align: top;\n",
       "    }\n",
       "\n",
       "    .dataframe thead th {\n",
       "        text-align: right;\n",
       "    }\n",
       "</style>\n",
       "<table border=\"1\" class=\"dataframe\">\n",
       "  <thead>\n",
       "    <tr style=\"text-align: right;\">\n",
       "      <th></th>\n",
       "      <th>ProtocolName</th>\n",
       "      <th>cluster</th>\n",
       "    </tr>\n",
       "  </thead>\n",
       "  <tbody>\n",
       "    <tr>\n",
       "      <th>0</th>\n",
       "      <td>GMAIL</td>\n",
       "      <td>-1</td>\n",
       "    </tr>\n",
       "    <tr>\n",
       "      <th>1</th>\n",
       "      <td>AMAZON</td>\n",
       "      <td>0</td>\n",
       "    </tr>\n",
       "    <tr>\n",
       "      <th>2</th>\n",
       "      <td>AMAZON</td>\n",
       "      <td>1</td>\n",
       "    </tr>\n",
       "    <tr>\n",
       "      <th>3</th>\n",
       "      <td>AMAZON</td>\n",
       "      <td>1</td>\n",
       "    </tr>\n",
       "    <tr>\n",
       "      <th>4</th>\n",
       "      <td>GMAIL</td>\n",
       "      <td>2</td>\n",
       "    </tr>\n",
       "    <tr>\n",
       "      <th>...</th>\n",
       "      <td>...</td>\n",
       "      <td>...</td>\n",
       "    </tr>\n",
       "    <tr>\n",
       "      <th>31995</th>\n",
       "      <td>AMAZON</td>\n",
       "      <td>1</td>\n",
       "    </tr>\n",
       "    <tr>\n",
       "      <th>31996</th>\n",
       "      <td>MICROSOFT</td>\n",
       "      <td>-1</td>\n",
       "    </tr>\n",
       "    <tr>\n",
       "      <th>31997</th>\n",
       "      <td>GMAIL</td>\n",
       "      <td>5</td>\n",
       "    </tr>\n",
       "    <tr>\n",
       "      <th>31998</th>\n",
       "      <td>AMAZON</td>\n",
       "      <td>1</td>\n",
       "    </tr>\n",
       "    <tr>\n",
       "      <th>31999</th>\n",
       "      <td>GMAIL</td>\n",
       "      <td>45</td>\n",
       "    </tr>\n",
       "  </tbody>\n",
       "</table>\n",
       "<p>32000 rows × 2 columns</p>\n",
       "</div>"
      ],
      "text/plain": [
       "      ProtocolName  cluster\n",
       "0            GMAIL       -1\n",
       "1           AMAZON        0\n",
       "2           AMAZON        1\n",
       "3           AMAZON        1\n",
       "4            GMAIL        2\n",
       "...            ...      ...\n",
       "31995       AMAZON        1\n",
       "31996    MICROSOFT       -1\n",
       "31997        GMAIL        5\n",
       "31998       AMAZON        1\n",
       "31999        GMAIL       45\n",
       "\n",
       "[32000 rows x 2 columns]"
      ]
     },
     "execution_count": 581,
     "metadata": {},
     "output_type": "execute_result"
    }
   ],
   "source": [
    "\n",
    "results = pd.concat([pd.Series(y_train, name='ProtocolName'), pd.Series(y_pred, name='cluster').reset_index(drop=True)], axis=1, ignore_index=False)\n",
    "results"
   ]
  },
  {
   "cell_type": "markdown",
   "metadata": {},
   "source": [
    "# Evaluation"
   ]
  },
  {
   "cell_type": "code",
   "execution_count": 582,
   "metadata": {},
   "outputs": [
    {
     "data": {
      "text/html": [
       "<div>\n",
       "<style scoped>\n",
       "    .dataframe tbody tr th:only-of-type {\n",
       "        vertical-align: middle;\n",
       "    }\n",
       "\n",
       "    .dataframe tbody tr th {\n",
       "        vertical-align: top;\n",
       "    }\n",
       "\n",
       "    .dataframe thead th {\n",
       "        text-align: right;\n",
       "    }\n",
       "</style>\n",
       "<table border=\"1\" class=\"dataframe\">\n",
       "  <thead>\n",
       "    <tr style=\"text-align: right;\">\n",
       "      <th>ProtocolName</th>\n",
       "      <th>AMAZON</th>\n",
       "      <th>FACEBOOK</th>\n",
       "      <th>GMAIL</th>\n",
       "      <th>MICROSOFT</th>\n",
       "    </tr>\n",
       "    <tr>\n",
       "      <th>cluster</th>\n",
       "      <th></th>\n",
       "      <th></th>\n",
       "      <th></th>\n",
       "      <th></th>\n",
       "    </tr>\n",
       "  </thead>\n",
       "  <tbody>\n",
       "    <tr>\n",
       "      <th>-1</th>\n",
       "      <td>646.0</td>\n",
       "      <td>141.0</td>\n",
       "      <td>1235.0</td>\n",
       "      <td>480.0</td>\n",
       "    </tr>\n",
       "    <tr>\n",
       "      <th>0</th>\n",
       "      <td>120.0</td>\n",
       "      <td>NaN</td>\n",
       "      <td>NaN</td>\n",
       "      <td>189.0</td>\n",
       "    </tr>\n",
       "    <tr>\n",
       "      <th>1</th>\n",
       "      <td>5447.0</td>\n",
       "      <td>NaN</td>\n",
       "      <td>NaN</td>\n",
       "      <td>3565.0</td>\n",
       "    </tr>\n",
       "    <tr>\n",
       "      <th>2</th>\n",
       "      <td>NaN</td>\n",
       "      <td>NaN</td>\n",
       "      <td>56.0</td>\n",
       "      <td>NaN</td>\n",
       "    </tr>\n",
       "    <tr>\n",
       "      <th>3</th>\n",
       "      <td>552.0</td>\n",
       "      <td>NaN</td>\n",
       "      <td>NaN</td>\n",
       "      <td>3087.0</td>\n",
       "    </tr>\n",
       "    <tr>\n",
       "      <th>...</th>\n",
       "      <td>...</td>\n",
       "      <td>...</td>\n",
       "      <td>...</td>\n",
       "      <td>...</td>\n",
       "    </tr>\n",
       "    <tr>\n",
       "      <th>537</th>\n",
       "      <td>NaN</td>\n",
       "      <td>NaN</td>\n",
       "      <td>NaN</td>\n",
       "      <td>2.0</td>\n",
       "    </tr>\n",
       "    <tr>\n",
       "      <th>538</th>\n",
       "      <td>NaN</td>\n",
       "      <td>2.0</td>\n",
       "      <td>NaN</td>\n",
       "      <td>NaN</td>\n",
       "    </tr>\n",
       "    <tr>\n",
       "      <th>539</th>\n",
       "      <td>NaN</td>\n",
       "      <td>NaN</td>\n",
       "      <td>2.0</td>\n",
       "      <td>NaN</td>\n",
       "    </tr>\n",
       "    <tr>\n",
       "      <th>540</th>\n",
       "      <td>2.0</td>\n",
       "      <td>NaN</td>\n",
       "      <td>NaN</td>\n",
       "      <td>NaN</td>\n",
       "    </tr>\n",
       "    <tr>\n",
       "      <th>541</th>\n",
       "      <td>2.0</td>\n",
       "      <td>NaN</td>\n",
       "      <td>NaN</td>\n",
       "      <td>NaN</td>\n",
       "    </tr>\n",
       "  </tbody>\n",
       "</table>\n",
       "<p>543 rows × 4 columns</p>\n",
       "</div>"
      ],
      "text/plain": [
       "ProtocolName  AMAZON  FACEBOOK   GMAIL  MICROSOFT\n",
       "cluster                                          \n",
       "-1             646.0     141.0  1235.0      480.0\n",
       " 0             120.0       NaN     NaN      189.0\n",
       " 1            5447.0       NaN     NaN     3565.0\n",
       " 2               NaN       NaN    56.0        NaN\n",
       " 3             552.0       NaN     NaN     3087.0\n",
       "...              ...       ...     ...        ...\n",
       " 537             NaN       NaN     NaN        2.0\n",
       " 538             NaN       2.0     NaN        NaN\n",
       " 539             NaN       NaN     2.0        NaN\n",
       " 540             2.0       NaN     NaN        NaN\n",
       " 541             2.0       NaN     NaN        NaN\n",
       "\n",
       "[543 rows x 4 columns]"
      ]
     },
     "execution_count": 582,
     "metadata": {},
     "output_type": "execute_result"
    }
   ],
   "source": [
    "cluster_proto_counts = pd.DataFrame(results.groupby('cluster')['ProtocolName'].value_counts()).reset_index().pivot(index='cluster', columns='ProtocolName', values='count')\n",
    "cluster_proto_counts"
   ]
  },
  {
   "cell_type": "code",
   "execution_count": 583,
   "metadata": {},
   "outputs": [
    {
     "data": {
      "image/png": "[encoded data removed]",
      "text/plain": [
       "<Figure size 1200x1200 with 2 Axes>"
      ]
     },
     "metadata": {},
     "output_type": "display_data"
    }
   ],
   "source": [
    "plt.figure(figsize=(12,12))\n",
    "sns.heatmap(cluster_proto_counts, cmap='crest', annot=True)\n",
    "plt.show()"
   ]
  },
  {
   "cell_type": "code",
   "execution_count": 584,
   "metadata": {},
   "outputs": [
    {
     "name": "stdout",
     "output_type": "stream",
     "text": [
      "Adjusted Rand Index (ARI): 0.2758\n",
      "Normalized Mutual Information (NMI): 0.4061\n",
      "V-Measure: 0.4061\n",
      "Fowlkes-Mallows Index (FMI): 0.4239\n",
      "Homogeneity: 0.5935\n",
      "Completeness: 0.3087\n"
     ]
    }
   ],
   "source": [
    "true_labels = results.iloc[:,0]\n",
    "predicted_labels = results.iloc[:,1]\n",
    "\n",
    "\n",
    "ari = adjusted_rand_score(true_labels, predicted_labels)\n",
    "print(f\"Adjusted Rand Index (ARI): {ari:.4f}\")\n",
    "\n",
    "nmi = normalized_mutual_info_score(true_labels, predicted_labels)\n",
    "print(f\"Normalized Mutual Information (NMI): {nmi:.4f}\")\n",
    "\n",
    "v_measure = v_measure_score(true_labels, predicted_labels)\n",
    "print(f\"V-Measure: {v_measure:.4f}\")\n",
    "\n",
    "fmi = fowlkes_mallows_score(true_labels, predicted_labels)\n",
    "print(f\"Fowlkes-Mallows Index (FMI): {fmi:.4f}\")\n",
    "\n",
    "homogeneity = homogeneity_score(true_labels, predicted_labels)\n",
    "completeness = completeness_score(true_labels, predicted_labels)\n",
    "print(f\"Homogeneity: {homogeneity:.4f}\")\n",
    "print(f\"Completeness: {completeness:.4f}\")"
   ]
  },
  {
   "cell_type": "markdown",
   "metadata": {},
   "source": [
    "## Test set"
   ]
  },
  {
   "cell_type": "code",
   "execution_count": 585,
   "metadata": {},
   "outputs": [],
   "source": [
    "X_test = scaler.fit_transform(X_test)\n",
    "y_test_pred = model.fit_predict(X_test)\n",
    "\n",
    "cluster_protocol_map = results.groupby('cluster')['ProtocolName'].agg(lambda x: x.mode()[0]).to_dict()\n",
    "y_test_pred = [(cluster_protocol_map[y]  if y in cluster_protocol_map else 'None') for y in y_test_pred]"
   ]
  },
  {
   "cell_type": "code",
   "execution_count": 586,
   "metadata": {},
   "outputs": [
    {
     "data": {
      "text/plain": [
       "0.352"
      ]
     },
     "execution_count": 586,
     "metadata": {},
     "output_type": "execute_result"
    }
   ],
   "source": [
    "accuracy_score(y_test_pred, y_test)"
   ]
  },
  {
   "cell_type": "code",
   "execution_count": 562,
   "metadata": {},
   "outputs": [],
   "source": [
    "# TODO: Change hyper-parameter tuning to work on cross-validation set, because tuning might be overfitting\n",
    "# TODO: compare to random forest or gbm"
   ]
  },
  {
   "cell_type": "code",
   "execution_count": null,
   "metadata": {},
   "outputs": [],
   "source": []
  },
  {
   "cell_type": "code",
   "execution_count": null,
   "metadata": {},
   "outputs": [],
   "source": []
  }
 ],
 "metadata": {
  "kaggle": {
   "accelerator": "none",
   "dataSources": [
    {
     "datasetId": 53019,
     "sourceId": 100708,
     "sourceType": "datasetVersion"
    }
   ],
   "dockerImageVersionId": 30786,
   "isGpuEnabled": false,
   "isInternetEnabled": true,
   "language": "python",
   "sourceType": "notebook"
  },
  "kernelspec": {
   "display_name": "Python 3 (ipykernel)",
   "language": "python",
   "name": "python3"
  },
  "language_info": {
   "codemirror_mode": {
    "name": "ipython",
    "version": 3
   },
   "file_extension": ".py",
   "mimetype": "text/x-python",
   "name": "python",
   "nbconvert_exporter": "python",
   "pygments_lexer": "ipython3",
   "version": "3.11.3"
  }
 },
 "nbformat": 4,
 "nbformat_minor": 4
}
